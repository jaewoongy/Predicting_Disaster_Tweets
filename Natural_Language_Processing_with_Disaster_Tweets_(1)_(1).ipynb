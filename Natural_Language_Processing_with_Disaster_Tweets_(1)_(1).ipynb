{
  "nbformat": 4,
  "nbformat_minor": 0,
  "metadata": {
    "colab": {
      "provenance": [],
      "collapsed_sections": [
        "CTIkPuMMx2-G",
        "-nVk_7-uyKim",
        "zaFmOgPkyYDf",
        "Eq4ccHu3gnLU",
        "6c21hTCnWp8d",
        "Z7GgM-i5gxId"
      ]
    },
    "kernelspec": {
      "name": "python3",
      "display_name": "Python 3"
    },
    "language_info": {
      "name": "python"
    }
  },
  "cells": [
    {
      "cell_type": "markdown",
      "source": [
        "# ECE NLP Project \n",
        "\n",
        "### By: Jae Yun\n",
        "\n",
        "Using MultinomialNB and Naive Bayes to Make predictions on whether a disaster tweet is real or fake using the sklearn library"
      ],
      "metadata": {
        "id": "oJPNfM0cRcRt"
      }
    },
    {
      "cell_type": "markdown",
      "source": [
        "#**<font color='teal'>Data Setup</font>**\n"
      ],
      "metadata": {
        "id": "CTIkPuMMx2-G"
      }
    },
    {
      "cell_type": "code",
      "execution_count": null,
      "metadata": {
        "id": "2SuuQwvcidap"
      },
      "outputs": [],
      "source": [
        "import numpy as np\n",
        "import pandas as pd\n",
        "import matplotlib.pyplot as plt\n",
        "import seaborn as sns"
      ]
    },
    {
      "cell_type": "code",
      "source": [
        "!gdown --id 15Vh-MTZAhWWTxVccW0smvJvpy8x5rNPa\n",
        "!gdown --id 1F3pOCy0adnt6yadk0CP3FVmYJDNdt7QQ\n",
        "!gdown --id 1_J3SyLijON45Zpf-SsfWVBY2ODRE1emw\n"
      ],
      "metadata": {
        "colab": {
          "base_uri": "https://localhost:8080/"
        },
        "id": "mw-zab8F9aMS",
        "outputId": "14e49c71-ee7e-4c03-f733-8113fe879f76"
      },
      "execution_count": null,
      "outputs": [
        {
          "output_type": "stream",
          "name": "stdout",
          "text": [
            "/usr/local/lib/python3.9/dist-packages/gdown/cli.py:121: FutureWarning: Option `--id` was deprecated in version 4.3.1 and will be removed in 5.0. You don't need to pass it anymore to use a file ID.\n",
            "  warnings.warn(\n",
            "Downloading...\n",
            "From: https://drive.google.com/uc?id=15Vh-MTZAhWWTxVccW0smvJvpy8x5rNPa\n",
            "To: /content/test.csv\n",
            "100% 421k/421k [00:00<00:00, 86.3MB/s]\n",
            "/usr/local/lib/python3.9/dist-packages/gdown/cli.py:121: FutureWarning: Option `--id` was deprecated in version 4.3.1 and will be removed in 5.0. You don't need to pass it anymore to use a file ID.\n",
            "  warnings.warn(\n",
            "Downloading...\n",
            "From: https://drive.google.com/uc?id=1F3pOCy0adnt6yadk0CP3FVmYJDNdt7QQ\n",
            "To: /content/train.csv\n",
            "100% 988k/988k [00:00<00:00, 116MB/s]\n",
            "/usr/local/lib/python3.9/dist-packages/gdown/cli.py:121: FutureWarning: Option `--id` was deprecated in version 4.3.1 and will be removed in 5.0. You don't need to pass it anymore to use a file ID.\n",
            "  warnings.warn(\n",
            "Downloading...\n",
            "From: https://drive.google.com/uc?id=1_J3SyLijON45Zpf-SsfWVBY2ODRE1emw\n",
            "To: /content/sample_submission.csv\n",
            "100% 22.7k/22.7k [00:00<00:00, 34.9MB/s]\n"
          ]
        }
      ]
    },
    {
      "cell_type": "code",
      "source": [
        "train = pd.read_csv('train.csv')\n",
        "test = pd.read_csv('test.csv')\n",
        "sample_submission = pd.read_csv('sample_submission.csv')"
      ],
      "metadata": {
        "id": "yx7WrPZEmMgf"
      },
      "execution_count": null,
      "outputs": []
    },
    {
      "cell_type": "code",
      "source": [
        "train.head()"
      ],
      "metadata": {
        "id": "IgocvEcUx7f6",
        "colab": {
          "base_uri": "https://localhost:8080/",
          "height": 206
        },
        "outputId": "281baebb-e9ba-4e58-84d9-8197cd450e1d"
      },
      "execution_count": null,
      "outputs": [
        {
          "output_type": "execute_result",
          "data": {
            "text/plain": [
              "   id keyword location                                               text  \\\n",
              "0   1     NaN      NaN  Our Deeds are the Reason of this #earthquake M...   \n",
              "1   4     NaN      NaN             Forest fire near La Ronge Sask. Canada   \n",
              "2   5     NaN      NaN  All residents asked to 'shelter in place' are ...   \n",
              "3   6     NaN      NaN  13,000 people receive #wildfires evacuation or...   \n",
              "4   7     NaN      NaN  Just got sent this photo from Ruby #Alaska as ...   \n",
              "\n",
              "   target  \n",
              "0       1  \n",
              "1       1  \n",
              "2       1  \n",
              "3       1  \n",
              "4       1  "
            ],
            "text/html": [
              "\n",
              "  <div id=\"df-072b3f1b-b3a0-4f14-950e-929f92e2ecb1\">\n",
              "    <div class=\"colab-df-container\">\n",
              "      <div>\n",
              "<style scoped>\n",
              "    .dataframe tbody tr th:only-of-type {\n",
              "        vertical-align: middle;\n",
              "    }\n",
              "\n",
              "    .dataframe tbody tr th {\n",
              "        vertical-align: top;\n",
              "    }\n",
              "\n",
              "    .dataframe thead th {\n",
              "        text-align: right;\n",
              "    }\n",
              "</style>\n",
              "<table border=\"1\" class=\"dataframe\">\n",
              "  <thead>\n",
              "    <tr style=\"text-align: right;\">\n",
              "      <th></th>\n",
              "      <th>id</th>\n",
              "      <th>keyword</th>\n",
              "      <th>location</th>\n",
              "      <th>text</th>\n",
              "      <th>target</th>\n",
              "    </tr>\n",
              "  </thead>\n",
              "  <tbody>\n",
              "    <tr>\n",
              "      <th>0</th>\n",
              "      <td>1</td>\n",
              "      <td>NaN</td>\n",
              "      <td>NaN</td>\n",
              "      <td>Our Deeds are the Reason of this #earthquake M...</td>\n",
              "      <td>1</td>\n",
              "    </tr>\n",
              "    <tr>\n",
              "      <th>1</th>\n",
              "      <td>4</td>\n",
              "      <td>NaN</td>\n",
              "      <td>NaN</td>\n",
              "      <td>Forest fire near La Ronge Sask. Canada</td>\n",
              "      <td>1</td>\n",
              "    </tr>\n",
              "    <tr>\n",
              "      <th>2</th>\n",
              "      <td>5</td>\n",
              "      <td>NaN</td>\n",
              "      <td>NaN</td>\n",
              "      <td>All residents asked to 'shelter in place' are ...</td>\n",
              "      <td>1</td>\n",
              "    </tr>\n",
              "    <tr>\n",
              "      <th>3</th>\n",
              "      <td>6</td>\n",
              "      <td>NaN</td>\n",
              "      <td>NaN</td>\n",
              "      <td>13,000 people receive #wildfires evacuation or...</td>\n",
              "      <td>1</td>\n",
              "    </tr>\n",
              "    <tr>\n",
              "      <th>4</th>\n",
              "      <td>7</td>\n",
              "      <td>NaN</td>\n",
              "      <td>NaN</td>\n",
              "      <td>Just got sent this photo from Ruby #Alaska as ...</td>\n",
              "      <td>1</td>\n",
              "    </tr>\n",
              "  </tbody>\n",
              "</table>\n",
              "</div>\n",
              "      <button class=\"colab-df-convert\" onclick=\"convertToInteractive('df-072b3f1b-b3a0-4f14-950e-929f92e2ecb1')\"\n",
              "              title=\"Convert this dataframe to an interactive table.\"\n",
              "              style=\"display:none;\">\n",
              "        \n",
              "  <svg xmlns=\"http://www.w3.org/2000/svg\" height=\"24px\"viewBox=\"0 0 24 24\"\n",
              "       width=\"24px\">\n",
              "    <path d=\"M0 0h24v24H0V0z\" fill=\"none\"/>\n",
              "    <path d=\"M18.56 5.44l.94 2.06.94-2.06 2.06-.94-2.06-.94-.94-2.06-.94 2.06-2.06.94zm-11 1L8.5 8.5l.94-2.06 2.06-.94-2.06-.94L8.5 2.5l-.94 2.06-2.06.94zm10 10l.94 2.06.94-2.06 2.06-.94-2.06-.94-.94-2.06-.94 2.06-2.06.94z\"/><path d=\"M17.41 7.96l-1.37-1.37c-.4-.4-.92-.59-1.43-.59-.52 0-1.04.2-1.43.59L10.3 9.45l-7.72 7.72c-.78.78-.78 2.05 0 2.83L4 21.41c.39.39.9.59 1.41.59.51 0 1.02-.2 1.41-.59l7.78-7.78 2.81-2.81c.8-.78.8-2.07 0-2.86zM5.41 20L4 18.59l7.72-7.72 1.47 1.35L5.41 20z\"/>\n",
              "  </svg>\n",
              "      </button>\n",
              "      \n",
              "  <style>\n",
              "    .colab-df-container {\n",
              "      display:flex;\n",
              "      flex-wrap:wrap;\n",
              "      gap: 12px;\n",
              "    }\n",
              "\n",
              "    .colab-df-convert {\n",
              "      background-color: #E8F0FE;\n",
              "      border: none;\n",
              "      border-radius: 50%;\n",
              "      cursor: pointer;\n",
              "      display: none;\n",
              "      fill: #1967D2;\n",
              "      height: 32px;\n",
              "      padding: 0 0 0 0;\n",
              "      width: 32px;\n",
              "    }\n",
              "\n",
              "    .colab-df-convert:hover {\n",
              "      background-color: #E2EBFA;\n",
              "      box-shadow: 0px 1px 2px rgba(60, 64, 67, 0.3), 0px 1px 3px 1px rgba(60, 64, 67, 0.15);\n",
              "      fill: #174EA6;\n",
              "    }\n",
              "\n",
              "    [theme=dark] .colab-df-convert {\n",
              "      background-color: #3B4455;\n",
              "      fill: #D2E3FC;\n",
              "    }\n",
              "\n",
              "    [theme=dark] .colab-df-convert:hover {\n",
              "      background-color: #434B5C;\n",
              "      box-shadow: 0px 1px 3px 1px rgba(0, 0, 0, 0.15);\n",
              "      filter: drop-shadow(0px 1px 2px rgba(0, 0, 0, 0.3));\n",
              "      fill: #FFFFFF;\n",
              "    }\n",
              "  </style>\n",
              "\n",
              "      <script>\n",
              "        const buttonEl =\n",
              "          document.querySelector('#df-072b3f1b-b3a0-4f14-950e-929f92e2ecb1 button.colab-df-convert');\n",
              "        buttonEl.style.display =\n",
              "          google.colab.kernel.accessAllowed ? 'block' : 'none';\n",
              "\n",
              "        async function convertToInteractive(key) {\n",
              "          const element = document.querySelector('#df-072b3f1b-b3a0-4f14-950e-929f92e2ecb1');\n",
              "          const dataTable =\n",
              "            await google.colab.kernel.invokeFunction('convertToInteractive',\n",
              "                                                     [key], {});\n",
              "          if (!dataTable) return;\n",
              "\n",
              "          const docLinkHtml = 'Like what you see? Visit the ' +\n",
              "            '<a target=\"_blank\" href=https://colab.research.google.com/notebooks/data_table.ipynb>data table notebook</a>'\n",
              "            + ' to learn more about interactive tables.';\n",
              "          element.innerHTML = '';\n",
              "          dataTable['output_type'] = 'display_data';\n",
              "          await google.colab.output.renderOutput(dataTable, element);\n",
              "          const docLink = document.createElement('div');\n",
              "          docLink.innerHTML = docLinkHtml;\n",
              "          element.appendChild(docLink);\n",
              "        }\n",
              "      </script>\n",
              "    </div>\n",
              "  </div>\n",
              "  "
            ]
          },
          "metadata": {},
          "execution_count": 6
        }
      ]
    },
    {
      "cell_type": "code",
      "source": [
        "#Added a column for both train and test dataframes to find the length of each text.\n",
        "\n",
        "train['length'] = train['text'].apply(len)\n",
        "test['length'] = test['text'].apply(len)\n",
        "\n",
        "print(train.head())\n",
        "print(train.length.describe(), '\\n') #Statistics of length of each text\n",
        "print(test.length.describe())"
      ],
      "metadata": {
        "colab": {
          "base_uri": "https://localhost:8080/"
        },
        "id": "5dXceM52tHd0",
        "outputId": "084afea6-0c6b-4025-db6a-2f4e63ab03e1"
      },
      "execution_count": null,
      "outputs": [
        {
          "output_type": "stream",
          "name": "stdout",
          "text": [
            "   id keyword location                                               text  \\\n",
            "0   1     NaN      NaN  Our Deeds are the Reason of this #earthquake M...   \n",
            "1   4     NaN      NaN             Forest fire near La Ronge Sask. Canada   \n",
            "2   5     NaN      NaN  All residents asked to 'shelter in place' are ...   \n",
            "3   6     NaN      NaN  13,000 people receive #wildfires evacuation or...   \n",
            "4   7     NaN      NaN  Just got sent this photo from Ruby #Alaska as ...   \n",
            "\n",
            "   target  length  \n",
            "0       1      69  \n",
            "1       1      38  \n",
            "2       1     133  \n",
            "3       1      65  \n",
            "4       1      88  \n",
            "count    7613.000000\n",
            "mean      101.037436\n",
            "std        33.781325\n",
            "min         7.000000\n",
            "25%        78.000000\n",
            "50%       107.000000\n",
            "75%       133.000000\n",
            "max       157.000000\n",
            "Name: length, dtype: float64 \n",
            "\n",
            "count    3263.000000\n",
            "mean      102.108183\n",
            "std        33.972158\n",
            "min         5.000000\n",
            "25%        78.000000\n",
            "50%       109.000000\n",
            "75%       134.000000\n",
            "max       151.000000\n",
            "Name: length, dtype: float64\n"
          ]
        }
      ]
    },
    {
      "cell_type": "markdown",
      "source": [
        "#**<font color='teal'>Some Data Visualizations</font>**\n"
      ],
      "metadata": {
        "id": "-nVk_7-uyKim"
      }
    },
    {
      "cell_type": "code",
      "source": [
        "sns.countplot(data = train, x = 'target')\n",
        "\n",
        "#This data shows the number of fake tweets (0) and real tweets (1) (Around 57% are fake, 43% real)"
      ],
      "metadata": {
        "colab": {
          "base_uri": "https://localhost:8080/"
        },
        "id": "Gu9zh8KircWp",
        "outputId": "972a88de-50dd-410e-8d78-f598d8a068de"
      },
      "execution_count": null,
      "outputs": [
        {
          "output_type": "execute_result",
          "data": {
            "text/plain": [
              "<Axes: xlabel='target', ylabel='count'>"
            ]
          },
          "metadata": {},
          "execution_count": 8
        },
        {
          "output_type": "display_data",
          "data": {
            "text/plain": [
              "<Figure size 432x288 with 1 Axes>"
            ],
            "image/png": "[encoded data removed]"
          },
          "metadata": {
            "needs_background": "light"
          }
        }
      ]
    },
    {
      "cell_type": "code",
      "source": [
        "sns.barplot(x='target', y = train.length, data=train, palette='rainbow')\n",
        "#Some data analysis: real tweets tend to have longer length tweets."
      ],
      "metadata": {
        "colab": {
          "base_uri": "https://localhost:8080/"
        },
        "id": "Vuk8htojLvWl",
        "outputId": "d0183d2f-45b5-4770-fa13-adca4e1eb831"
      },
      "execution_count": null,
      "outputs": [
        {
          "output_type": "execute_result",
          "data": {
            "text/plain": [
              "<Axes: xlabel='target', ylabel='length'>"
            ]
          },
          "metadata": {},
          "execution_count": 9
        },
        {
          "output_type": "display_data",
          "data": {
            "text/plain": [
              "<Figure size 432x288 with 1 Axes>"
            ],
            "image/png": "[encoded data removed]"
          },
          "metadata": {
            "needs_background": "light"
          }
        }
      ]
    },
    {
      "cell_type": "code",
      "source": [
        "train.hist(column='length', by='target', bins=50,figsize=(12,4))\n",
        "\n",
        "#Majority of the tweets range from 130-145 words in length. Way more real tweets are in the 130-140 range than the fake tweets."
      ],
      "metadata": {
        "colab": {
          "base_uri": "https://localhost:8080/"
        },
        "id": "rOeAlICCs3jZ",
        "outputId": "a54f8ea3-a3e1-481e-bc40-22dfbbdbad68"
      },
      "execution_count": null,
      "outputs": [
        {
          "output_type": "execute_result",
          "data": {
            "text/plain": [
              "array([<Axes: title={'center': '0'}>, <Axes: title={'center': '1'}>],\n",
              "      dtype=object)"
            ]
          },
          "metadata": {},
          "execution_count": 10
        },
        {
          "output_type": "display_data",
          "data": {
            "text/plain": [
              "<Figure size 864x288 with 2 Axes>"
            ],
            "image/png": "[encoded data removed]"
          },
          "metadata": {
            "needs_background": "light"
          }
        }
      ]
    },
    {
      "cell_type": "markdown",
      "source": [
        "#**<font color='teal'>Data Cleaning</font>**\n"
      ],
      "metadata": {
        "id": "zaFmOgPkyYDf"
      }
    },
    {
      "cell_type": "code",
      "source": [
        "#Not using this code atm but made it just in case: \n",
        "#This block turns the text in the train dataframe into one entire string\n",
        "\n",
        "train_fulltext = ''\n",
        "for value in train.text:\n",
        "    train_fulltext = train_fulltext + ' ' + value\n",
        "print(train_fulltext[:500])"
      ],
      "metadata": {
        "colab": {
          "base_uri": "https://localhost:8080/"
        },
        "id": "6JNAl68PDjyC",
        "outputId": "2c145f82-b925-41b2-f68e-c10104f6fa79"
      },
      "execution_count": null,
      "outputs": [
        {
          "output_type": "stream",
          "name": "stdout",
          "text": [
            " Our Deeds are the Reason of this #earthquake May ALLAH Forgive us all Forest fire near La Ronge Sask. Canada All residents asked to 'shelter in place' are being notified by officers. No other evacuation or shelter in place orders are expected 13,000 people receive #wildfires evacuation orders in California  Just got sent this photo from Ruby #Alaska as smoke from #wildfires pours into a school  #RockyFire Update => California Hwy. 20 closed in both directions due to Lake County fire - #CAfire #\n"
          ]
        }
      ]
    },
    {
      "cell_type": "code",
      "source": [
        "#Using this to clean data in the next block\n",
        "\n",
        "import string\n",
        "import spacy\n",
        "\n",
        "en = spacy.load('en_core_web_sm')\n",
        "stopwords = en.Defaults.stop_words\n",
        "print(stopwords)"
      ],
      "metadata": {
        "colab": {
          "base_uri": "https://localhost:8080/"
        },
        "id": "qKuon27uofpx",
        "outputId": "ab495806-69bb-4bbc-8f0e-a4f5258ec884"
      },
      "execution_count": null,
      "outputs": [
        {
          "output_type": "stream",
          "name": "stderr",
          "text": [
            "/usr/local/lib/python3.9/dist-packages/torch/cuda/__init__.py:497: UserWarning: Can't initialize NVML\n",
            "  warnings.warn(\"Can't initialize NVML\")\n"
          ]
        },
        {
          "output_type": "stream",
          "name": "stdout",
          "text": [
            "{'were', 'then', '‘m', 'sometime', 'rather', 'beyond', 'n’t', 'noone', 'still', 'serious', 'an', 'few', 'what', 'we', 'used', 'those', 'formerly', 'over', 'using', 'all', 'almost', 'also', 'been', 'another', '’ve', 'say', 'own', 'towards', 'enough', 'when', 'whereas', 'did', 'each', 'indeed', 'really', 'please', 'if', 'whose', 'amount', \"'m\", 'seem', 'who', 'everyone', 'ourselves', 'am', 'nothing', 'unless', 'per', 'beside', 'nowhere', 'regarding', 'made', 'much', 'thru', 'name', 'twenty', 'always', '’s', 'throughout', 'perhaps', '’re', 'has', 'within', 'along', 'either', 'whenever', 'otherwise', 'your', 'wherein', 'during', 'above', 'eleven', 'fifteen', 'top', 'side', 'moreover', '’d', 'whereby', 'had', 'last', 'everything', 'whether', 'something', 'under', 'besides', 'three', 'these', 'between', 'not', 'became', 'same', 'make', 'hundred', 'seems', 'except', 'below', 'they', 'from', 'may', \"n't\", 'his', 'anyway', \"'ll\", 'show', 'or', 'doing', 'will', 'now', 'herself', 'mine', 'sixty', 'afterwards', 'yourselves', 'myself', 'after', 'latter', 'too', 'yours', 'yet', 'up', 'yourself', 'than', 'becomes', 'upon', 'there', 'whom', 'back', 'how', 'everywhere', 'further', 'being', 'some', 'move', 'anyone', 'do', 'first', 'whoever', 'might', 'onto', 'would', 'often', 'more', 'does', 'ten', 'four', 'her', \"'s\", 'can', 'out', 'but', 'six', 'else', 'less', 'since', 'elsewhere', 'already', 'among', 'cannot', 'at', 'seemed', 'whole', 'around', 'us', 'you', 'anyhow', 'as', '’m', 'thus', 'call', 'our', 'sometimes', 'even', 'five', 'fifty', 'have', 'next', 'himself', 'though', 'anything', 'most', 'themselves', '’ll', 'eight', 'be', 'whence', 'once', 'across', 'for', 'although', 'should', 'are', 'must', 'ours', 're', 'its', 'in', 'none', 'take', 'thereupon', 'become', 'two', 'therefore', 'why', 'could', 'until', 'thereby', 'it', 'herein', 'former', 'ever', 'hereby', \"'d\", 'namely', 'someone', 'hereafter', 'somewhere', 'whereafter', 'alone', 'full', 'so', 'itself', 'thence', 'nevertheless', 'somehow', 'put', 'done', 'other', 'a', 'whatever', '‘ve', 'nobody', 'because', 'well', 'becoming', 'others', 'nor', '‘re', 'both', 'which', 'off', 'very', 'quite', 'my', 'amongst', 'whereupon', 'whither', 'ca', 'hers', 'only', 'into', 'get', 'about', 'go', 'i', '‘ll', 'while', 'is', 'down', 'several', 'one', 'he', 'their', 'thereafter', 'via', 'and', 'n‘t', 'various', 'part', 'of', 'hereupon', 'on', 'without', '‘d', 'such', 'here', 'meanwhile', 'together', 'any', 'before', 'forty', 'through', 'again', 'by', 'many', 'neither', 'however', 'nine', 'third', 'hence', 'therein', 'empty', 'front', 'never', 'give', 'anywhere', 'beforehand', 'him', \"'re\", '‘s', 'least', 'latterly', 'the', \"'ve\", 'seeming', 'keep', 'to', 'just', 'mostly', 'no', 'this', 'behind', 'she', 'twelve', 'with', 'due', 'that', 'where', 'bottom', 'toward', 'wherever', 'them', 'against', 'was', 'see', 'me', 'every'}\n"
          ]
        }
      ]
    },
    {
      "cell_type": "code",
      "source": [
        "#This block is to clean data (remove punctuation and stop words since they're considered meaningless (according to my udemy lesson))\n",
        "#This might interfere with our dataset since some stopwords/punctuation may be useful in determining whether a tweet is fake or not.\n",
        "#But, let's worry about optimization after we make the basic nlp model.\n",
        "\n",
        "\n",
        "def text_process(mess):\n",
        "    \"\"\"\n",
        "    Takes in a string of text, then performs the following:\n",
        "    1. Remove all punctuation\n",
        "    2. Remove all stopwords\n",
        "    3. Returns a list of the cleaned text\n",
        "    \"\"\"\n",
        "    # Check characters to see if they are in punctuation\n",
        "    nopunc = [char for char in mess if char not in string.punctuation]\n",
        "\n",
        "    # Join the characters again to form the string.\n",
        "    nopunc = ''.join(nopunc)\n",
        "    \n",
        "    # Now just remove any stopwords\n",
        "    return [word for word in nopunc.split() if word.lower() not in stopwords]"
      ],
      "metadata": {
        "id": "ykyQdUerQMRE"
      },
      "execution_count": null,
      "outputs": []
    },
    {
      "cell_type": "code",
      "source": [
        "train.text[0]"
      ],
      "metadata": {
        "colab": {
          "base_uri": "https://localhost:8080/"
        },
        "id": "L07PPHaOo3hm",
        "outputId": "591431c9-9545-4e78-ee1b-350d86d07849"
      },
      "execution_count": null,
      "outputs": [
        {
          "output_type": "execute_result",
          "data": {
            "text/plain": [
              "'Our Deeds are the Reason of this #earthquake May ALLAH Forgive us all'"
            ],
            "application/vnd.google.colaboratory.intrinsic+json": {
              "type": "string"
            }
          },
          "metadata": {},
          "execution_count": 14
        }
      ]
    },
    {
      "cell_type": "code",
      "source": [
        "text_process(train.text[0])"
      ],
      "metadata": {
        "colab": {
          "base_uri": "https://localhost:8080/"
        },
        "id": "hUsqcHyXoS6d",
        "outputId": "16342c80-4278-4e48-c249-64af317373f5"
      },
      "execution_count": null,
      "outputs": [
        {
          "output_type": "execute_result",
          "data": {
            "text/plain": [
              "['Deeds', 'Reason', 'earthquake', 'ALLAH', 'Forgive']"
            ]
          },
          "metadata": {},
          "execution_count": 15
        }
      ]
    },
    {
      "cell_type": "code",
      "source": [
        "#Applied text_process to the entire train and test dataset\n",
        "train['cleaned_text'] = train['text'].apply(text_process)\n",
        "test['cleaned_text'] = test['text'].apply(text_process)"
      ],
      "metadata": {
        "id": "uwTz2g_4vxJZ"
      },
      "execution_count": null,
      "outputs": []
    },
    {
      "cell_type": "code",
      "source": [
        "train.head()"
      ],
      "metadata": {
        "colab": {
          "base_uri": "https://localhost:8080/"
        },
        "id": "OQ_16UvlwAqQ",
        "outputId": "c0350613-b654-4041-eeb9-8f329f42fbc2"
      },
      "execution_count": null,
      "outputs": [
        {
          "output_type": "execute_result",
          "data": {
            "text/plain": [
              "   id keyword location                                               text  \\\n",
              "0   1     NaN      NaN  Our Deeds are the Reason of this #earthquake M...   \n",
              "1   4     NaN      NaN             Forest fire near La Ronge Sask. Canada   \n",
              "2   5     NaN      NaN  All residents asked to 'shelter in place' are ...   \n",
              "3   6     NaN      NaN  13,000 people receive #wildfires evacuation or...   \n",
              "4   7     NaN      NaN  Just got sent this photo from Ruby #Alaska as ...   \n",
              "\n",
              "   target  length                                       cleaned_text  \n",
              "0       1      69        [Deeds, Reason, earthquake, ALLAH, Forgive]  \n",
              "1       1      38      [Forest, fire, near, La, Ronge, Sask, Canada]  \n",
              "2       1     133  [residents, asked, shelter, place, notified, o...  \n",
              "3       1      65  [13000, people, receive, wildfires, evacuation...  \n",
              "4       1      88  [got, sent, photo, Ruby, Alaska, smoke, wildfi...  "
            ],
            "text/html": [
              "\n",
              "  <div id=\"df-0f996d09-a26e-49b2-9b1f-6dc217e79230\">\n",
              "    <div class=\"colab-df-container\">\n",
              "      <div>\n",
              "<style scoped>\n",
              "    .dataframe tbody tr th:only-of-type {\n",
              "        vertical-align: middle;\n",
              "    }\n",
              "\n",
              "    .dataframe tbody tr th {\n",
              "        vertical-align: top;\n",
              "    }\n",
              "\n",
              "    .dataframe thead th {\n",
              "        text-align: right;\n",
              "    }\n",
              "</style>\n",
              "<table border=\"1\" class=\"dataframe\">\n",
              "  <thead>\n",
              "    <tr style=\"text-align: right;\">\n",
              "      <th></th>\n",
              "      <th>id</th>\n",
              "      <th>keyword</th>\n",
              "      <th>location</th>\n",
              "      <th>text</th>\n",
              "      <th>target</th>\n",
              "      <th>length</th>\n",
              "      <th>cleaned_text</th>\n",
              "    </tr>\n",
              "  </thead>\n",
              "  <tbody>\n",
              "    <tr>\n",
              "      <th>0</th>\n",
              "      <td>1</td>\n",
              "      <td>NaN</td>\n",
              "      <td>NaN</td>\n",
              "      <td>Our Deeds are the Reason of this #earthquake M...</td>\n",
              "      <td>1</td>\n",
              "      <td>69</td>\n",
              "      <td>[Deeds, Reason, earthquake, ALLAH, Forgive]</td>\n",
              "    </tr>\n",
              "    <tr>\n",
              "      <th>1</th>\n",
              "      <td>4</td>\n",
              "      <td>NaN</td>\n",
              "      <td>NaN</td>\n",
              "      <td>Forest fire near La Ronge Sask. Canada</td>\n",
              "      <td>1</td>\n",
              "      <td>38</td>\n",
              "      <td>[Forest, fire, near, La, Ronge, Sask, Canada]</td>\n",
              "    </tr>\n",
              "    <tr>\n",
              "      <th>2</th>\n",
              "      <td>5</td>\n",
              "      <td>NaN</td>\n",
              "      <td>NaN</td>\n",
              "      <td>All residents asked to 'shelter in place' are ...</td>\n",
              "      <td>1</td>\n",
              "      <td>133</td>\n",
              "      <td>[residents, asked, shelter, place, notified, o...</td>\n",
              "    </tr>\n",
              "    <tr>\n",
              "      <th>3</th>\n",
              "      <td>6</td>\n",
              "      <td>NaN</td>\n",
              "      <td>NaN</td>\n",
              "      <td>13,000 people receive #wildfires evacuation or...</td>\n",
              "      <td>1</td>\n",
              "      <td>65</td>\n",
              "      <td>[13000, people, receive, wildfires, evacuation...</td>\n",
              "    </tr>\n",
              "    <tr>\n",
              "      <th>4</th>\n",
              "      <td>7</td>\n",
              "      <td>NaN</td>\n",
              "      <td>NaN</td>\n",
              "      <td>Just got sent this photo from Ruby #Alaska as ...</td>\n",
              "      <td>1</td>\n",
              "      <td>88</td>\n",
              "      <td>[got, sent, photo, Ruby, Alaska, smoke, wildfi...</td>\n",
              "    </tr>\n",
              "  </tbody>\n",
              "</table>\n",
              "</div>\n",
              "      <button class=\"colab-df-convert\" onclick=\"convertToInteractive('df-0f996d09-a26e-49b2-9b1f-6dc217e79230')\"\n",
              "              title=\"Convert this dataframe to an interactive table.\"\n",
              "              style=\"display:none;\">\n",
              "        \n",
              "  <svg xmlns=\"http://www.w3.org/2000/svg\" height=\"24px\"viewBox=\"0 0 24 24\"\n",
              "       width=\"24px\">\n",
              "    <path d=\"M0 0h24v24H0V0z\" fill=\"none\"/>\n",
              "    <path d=\"M18.56 5.44l.94 2.06.94-2.06 2.06-.94-2.06-.94-.94-2.06-.94 2.06-2.06.94zm-11 1L8.5 8.5l.94-2.06 2.06-.94-2.06-.94L8.5 2.5l-.94 2.06-2.06.94zm10 10l.94 2.06.94-2.06 2.06-.94-2.06-.94-.94-2.06-.94 2.06-2.06.94z\"/><path d=\"M17.41 7.96l-1.37-1.37c-.4-.4-.92-.59-1.43-.59-.52 0-1.04.2-1.43.59L10.3 9.45l-7.72 7.72c-.78.78-.78 2.05 0 2.83L4 21.41c.39.39.9.59 1.41.59.51 0 1.02-.2 1.41-.59l7.78-7.78 2.81-2.81c.8-.78.8-2.07 0-2.86zM5.41 20L4 18.59l7.72-7.72 1.47 1.35L5.41 20z\"/>\n",
              "  </svg>\n",
              "      </button>\n",
              "      \n",
              "  <style>\n",
              "    .colab-df-container {\n",
              "      display:flex;\n",
              "      flex-wrap:wrap;\n",
              "      gap: 12px;\n",
              "    }\n",
              "\n",
              "    .colab-df-convert {\n",
              "      background-color: #E8F0FE;\n",
              "      border: none;\n",
              "      border-radius: 50%;\n",
              "      cursor: pointer;\n",
              "      display: none;\n",
              "      fill: #1967D2;\n",
              "      height: 32px;\n",
              "      padding: 0 0 0 0;\n",
              "      width: 32px;\n",
              "    }\n",
              "\n",
              "    .colab-df-convert:hover {\n",
              "      background-color: #E2EBFA;\n",
              "      box-shadow: 0px 1px 2px rgba(60, 64, 67, 0.3), 0px 1px 3px 1px rgba(60, 64, 67, 0.15);\n",
              "      fill: #174EA6;\n",
              "    }\n",
              "\n",
              "    [theme=dark] .colab-df-convert {\n",
              "      background-color: #3B4455;\n",
              "      fill: #D2E3FC;\n",
              "    }\n",
              "\n",
              "    [theme=dark] .colab-df-convert:hover {\n",
              "      background-color: #434B5C;\n",
              "      box-shadow: 0px 1px 3px 1px rgba(0, 0, 0, 0.15);\n",
              "      filter: drop-shadow(0px 1px 2px rgba(0, 0, 0, 0.3));\n",
              "      fill: #FFFFFF;\n",
              "    }\n",
              "  </style>\n",
              "\n",
              "      <script>\n",
              "        const buttonEl =\n",
              "          document.querySelector('#df-0f996d09-a26e-49b2-9b1f-6dc217e79230 button.colab-df-convert');\n",
              "        buttonEl.style.display =\n",
              "          google.colab.kernel.accessAllowed ? 'block' : 'none';\n",
              "\n",
              "        async function convertToInteractive(key) {\n",
              "          const element = document.querySelector('#df-0f996d09-a26e-49b2-9b1f-6dc217e79230');\n",
              "          const dataTable =\n",
              "            await google.colab.kernel.invokeFunction('convertToInteractive',\n",
              "                                                     [key], {});\n",
              "          if (!dataTable) return;\n",
              "\n",
              "          const docLinkHtml = 'Like what you see? Visit the ' +\n",
              "            '<a target=\"_blank\" href=https://colab.research.google.com/notebooks/data_table.ipynb>data table notebook</a>'\n",
              "            + ' to learn more about interactive tables.';\n",
              "          element.innerHTML = '';\n",
              "          dataTable['output_type'] = 'display_data';\n",
              "          await google.colab.output.renderOutput(dataTable, element);\n",
              "          const docLink = document.createElement('div');\n",
              "          docLink.innerHTML = docLinkHtml;\n",
              "          element.appendChild(docLink);\n",
              "        }\n",
              "      </script>\n",
              "    </div>\n",
              "  </div>\n",
              "  "
            ]
          },
          "metadata": {},
          "execution_count": 17
        }
      ]
    },
    {
      "cell_type": "markdown",
      "source": [
        "#**<font color='teal'>Vectorization and TFIDF</font>**\n"
      ],
      "metadata": {
        "id": "Eq4ccHu3gnLU"
      }
    },
    {
      "cell_type": "code",
      "source": [
        "X_train_flat = [' '.join(sublist) for sublist in train['cleaned_text']]\n",
        "\n",
        "# extract the unique words from the training data\n",
        "words = set()\n",
        "for sentence in X_train_flat:\n",
        "    for word in sentence.split():\n",
        "        words.add(word)\n",
        "vocab = list(words)"
      ],
      "metadata": {
        "id": "Qr9OB5lcTi21"
      },
      "execution_count": null,
      "outputs": []
    },
    {
      "cell_type": "code",
      "source": [
        "from sklearn.feature_extraction.text import CountVectorizer\n",
        "vectorizer = CountVectorizer(vocabulary = vocab)\n",
        "train_bow = vectorizer.fit_transform(train['text'])\n"
      ],
      "metadata": {
        "id": "r339wbGzgsTq",
        "colab": {
          "base_uri": "https://localhost:8080/"
        },
        "outputId": "4ef1233f-82a6-48a9-da6c-4043da74d16a"
      },
      "execution_count": null,
      "outputs": [
        {
          "output_type": "stream",
          "name": "stderr",
          "text": [
            "/usr/local/lib/python3.9/dist-packages/sklearn/feature_extraction/text.py:1380: UserWarning: Upper case characters found in vocabulary while 'lowercase' is True. These entries will not be matched with any documents\n",
            "  warnings.warn(\n"
          ]
        }
      ]
    },
    {
      "cell_type": "code",
      "source": [
        "from sklearn.feature_extraction.text import TfidfTransformer\n",
        "\n",
        "tfidf_transformer = TfidfTransformer().fit(train_bow)\n",
        "train_tfidf = tfidf_transformer.transform(train_bow)"
      ],
      "metadata": {
        "id": "vkzSxnvqhfDU"
      },
      "execution_count": null,
      "outputs": []
    },
    {
      "cell_type": "markdown",
      "source": [
        "#**<font color='teal'>Train Test Split</font>**\n"
      ],
      "metadata": {
        "id": "6c21hTCnWp8d"
      }
    },
    {
      "cell_type": "code",
      "source": [
        "from sklearn.model_selection import train_test_split\n",
        "X_train, X_test, y_train, y_test = train_test_split(train_tfidf, train['target'], test_size = 0.3, random_state = 101)"
      ],
      "metadata": {
        "id": "eBY7USt7WtWH"
      },
      "execution_count": null,
      "outputs": []
    },
    {
      "cell_type": "markdown",
      "source": [
        "#**<font color='teal'>MultinomialNB</font>**\n"
      ],
      "metadata": {
        "id": "i-blgzZKxym3"
      }
    },
    {
      "cell_type": "code",
      "source": [
        "from sklearn.naive_bayes import MultinomialNB"
      ],
      "metadata": {
        "id": "XjXjdVl6a2f5"
      },
      "execution_count": null,
      "outputs": []
    },
    {
      "cell_type": "code",
      "source": [
        "fake_detect_model = MultinomialNB().fit(X_train, y_train)"
      ],
      "metadata": {
        "id": "JTrc-kNebQUy"
      },
      "execution_count": null,
      "outputs": []
    },
    {
      "cell_type": "code",
      "source": [
        "all_predictions = fake_detect_model.predict(X_test)\n",
        "print(all_predictions)"
      ],
      "metadata": {
        "colab": {
          "base_uri": "https://localhost:8080/"
        },
        "id": "ni7rPrX3ictQ",
        "outputId": "625d9d12-5c53-4cfa-f10a-01a1e2764f27"
      },
      "execution_count": null,
      "outputs": [
        {
          "output_type": "stream",
          "name": "stdout",
          "text": [
            "[0 1 0 ... 1 0 0]\n"
          ]
        }
      ]
    },
    {
      "cell_type": "code",
      "source": [
        "from sklearn.metrics import classification_report\n",
        "print(classification_report(all_predictions, y_test))"
      ],
      "metadata": {
        "colab": {
          "base_uri": "https://localhost:8080/"
        },
        "id": "rfCK3j7biv8f",
        "outputId": "fcac39d4-1629-40bb-8c95-7683ab6dc470"
      },
      "execution_count": null,
      "outputs": [
        {
          "output_type": "stream",
          "name": "stdout",
          "text": [
            "              precision    recall  f1-score   support\n",
            "\n",
            "           0       0.89      0.78      0.83      1529\n",
            "           1       0.64      0.81      0.72       755\n",
            "\n",
            "    accuracy                           0.79      2284\n",
            "   macro avg       0.77      0.80      0.78      2284\n",
            "weighted avg       0.81      0.79      0.80      2284\n",
            "\n"
          ]
        }
      ]
    },
    {
      "cell_type": "markdown",
      "source": [
        "#**<font color='teal'>Bernoulli Naive Bayes</font>**\n"
      ],
      "metadata": {
        "id": "Z7GgM-i5gxId"
      }
    },
    {
      "cell_type": "code",
      "source": [
        "from sklearn.naive_bayes import BernoulliNB\n",
        "\n",
        "fake_detect_model = BernoulliNB().fit(X_train, y_train)\n",
        "all_predictions = fake_detect_model.predict(X_test)\n",
        "print(classification_report(all_predictions, y_test))"
      ],
      "metadata": {
        "id": "9mmOPZCgg6rr",
        "colab": {
          "base_uri": "https://localhost:8080/"
        },
        "outputId": "c960db3c-53b8-414a-837d-9930cf2dc418"
      },
      "execution_count": null,
      "outputs": [
        {
          "output_type": "stream",
          "name": "stdout",
          "text": [
            "              precision    recall  f1-score   support\n",
            "\n",
            "           0       0.94      0.75      0.84      1666\n",
            "           1       0.57      0.88      0.69       618\n",
            "\n",
            "    accuracy                           0.79      2284\n",
            "   macro avg       0.76      0.82      0.77      2284\n",
            "weighted avg       0.84      0.79      0.80      2284\n",
            "\n"
          ]
        }
      ]
    },
    {
      "cell_type": "markdown",
      "source": [
        "#**<font color='teal'>Linear Support Vector Machine</font>**\n"
      ],
      "metadata": {
        "id": "JFlWItBJsREW"
      }
    },
    {
      "cell_type": "code",
      "source": [
        "from sklearn.linear_model import SGDClassifier\n",
        "from sklearn.metrics import accuracy_score\n",
        "\n",
        "sgd = SGDClassifier(loss='hinge', penalty='l2',alpha=1e-3, random_state=42, max_iter=5, tol=None)\n",
        "\n",
        "sgd = sgd.fit(X_train, y_train)\n",
        "y_pred = sgd.predict(X_test)\n",
        "\n",
        "print('accuracy %s' % accuracy_score(y_pred, y_test))\n"
      ],
      "metadata": {
        "colab": {
          "base_uri": "https://localhost:8080/"
        },
        "id": "puqCN-CssWQJ",
        "outputId": "e870e25d-9271-4dc6-bb67-28bec7a986c0"
      },
      "execution_count": null,
      "outputs": [
        {
          "output_type": "stream",
          "name": "stdout",
          "text": [
            "accuracy 0.7648861646234676\n"
          ]
        }
      ]
    },
    {
      "cell_type": "markdown",
      "source": [
        "#**<font color='teal'>Showing test tweets and their prediction</font>**\n"
      ],
      "metadata": {
        "id": "QvPehkIbKR6R"
      }
    },
    {
      "cell_type": "code",
      "source": [
        "test_vectorized = vectorizer.transform(test['text'])\n",
        "test_tfidf = tfidf_transformer.transform(test_vectorized)\n",
        "final_pred = fake_detect_model.predict(test_tfidf)"
      ],
      "metadata": {
        "id": "FkIlo_2nQ2dO"
      },
      "execution_count": null,
      "outputs": []
    },
    {
      "cell_type": "code",
      "source": [
        "for i in range(100):\n",
        "    print(test['text'][i], final_pred[i])"
      ],
      "metadata": {
        "colab": {
          "base_uri": "https://localhost:8080/"
        },
        "id": "Dj78eIuRQ6W-",
        "outputId": "d17fa38e-cb22-41b1-f01b-074f013a93f8"
      },
      "execution_count": null,
      "outputs": [
        {
          "output_type": "stream",
          "name": "stdout",
          "text": [
            "Just happened a terrible car crash 0\n",
            "Heard about #earthquake is different cities, stay safe everyone. 0\n",
            "there is a forest fire at spot pond, geese are fleeing across the street, I cannot save them all 1\n",
            "Apocalypse lighting. #Spokane #wildfires 0\n",
            "Typhoon Soudelor kills 28 in China and Taiwan 1\n",
            "We're shaking...It's an earthquake 0\n",
            "They'd probably still show more life than Arsenal did yesterday, eh? EH? 0\n",
            "Hey! How are you? 0\n",
            "What a nice hat? 0\n",
            "Fuck off! 0\n",
            "No I don't like cold! 0\n",
            "NOOOOOOOOO! Don't do that! 0\n",
            "No don't tell me that! 0\n",
            "What if?! 0\n",
            "Awesome! 0\n",
            "Birmingham Wholesale Market is ablaze BBC News - Fire breaks out at Birmingham's Wholesale Market http://t.co/irWqCEZWEU 1\n",
            "@sunkxssedharry will you wear shorts for race ablaze ? 0\n",
            "#PreviouslyOnDoyinTv: Toke MakinwaÛªs marriage crisis sets Nigerian Twitter ablaze... http://t.co/CMghxBa2XI 1\n",
            "Check these out: http://t.co/rOI2NSmEJJ http://t.co/3Tj8ZjiN21 http://t.co/YDUiXEfIpE http://t.co/LxTjc87KLS #nsfw 0\n",
            "PSA: IÛªm splitting my personalities.\n",
            "\n",
            "?? techies follow @ablaze_co\n",
            "?? Burners follow @ablaze 0\n",
            "beware world ablaze sierra leone &amp; guap. 0\n",
            "Burning Man Ablaze! by Turban Diva http://t.co/hodWosAmWS via @Etsy 0\n",
            "Not a diss song. People will take 1 thing and run with it. Smh it's an eye opener though. He is about 2 set the game ablaze @CyhiThePrynce 0\n",
            "Rape victim dies as she sets herself ablaze: A 16-year-old girl died of burn injuries as she set herself ablazeÛ_ http://t.co/UK8hNrbOob 1\n",
            "SETTING MYSELF ABLAZE http://t.co/6vMe7P5XhC 0\n",
            "@CTVToronto the bins in front of the field by my house wer set ablaze the other day flames went rite up the hydro pole wonder if it was him 0\n",
            "#nowplaying Alfons - Ablaze 2015 on Puls Radio #pulsradio http://t.co/aA5BJgWfDv 0\n",
            "'Burning Rahm': Let's hope City Hall builds a giant wooden mayoral effigy 100 feet tall &amp; sets it ablaze. http://t.co/kFo2mksn6Y @John_Kass 0\n",
            "@PhilippaEilhart @DhuBlath hurt but her eyes ablaze with insulted anger. 0\n",
            "Accident cleared in #PaTurnpike on PATP EB between PA-18 and Cranberry slow back to #traffic http://t.co/SL0Oqn0Vyr 1\n",
            "Just got to love burning your self on a damn curling wand... I swear someone needs to take it away from me cuase I'm just accident prone. 0\n",
            "I hate badging shit in accident 0\n",
            "#3: Car Recorder ZeroEdgeå¨ Dual-lens Car Camera Vehicle Traffic/Driving History/Accident Camcorder  Large Re... http://t.co/kKFaSJv6Cj 0\n",
            "Coincidence Or #Curse? Still #Unresolved Secrets From Past http://t.co/7VG8Df9pLE #accident 0\n",
            "@Traffic_SouthE @roadpol_east Accident on A27 near Lewes is it Kingston Roundabout rather than A283 0\n",
            "@sakuma_en If you pretend to feel a certain way the feeling can become genuine all by accident. -Hei (Darker than Black) #manga #anime 0\n",
            "For Legal and Medical Referral Service @1800_Injured Call us at: 1-800-465-87332 #accident #slipandfall #dogbite 0\n",
            "There's a construction guy working on the Disney store and he has huge gauges in his ears ?? ...that is a bloody accident waiting to happen 0\n",
            "@RobynJilllian @WlSDOMTEETHS I feel like I'm going to do it on accident. Teesha is gonna come out?? 0\n",
            "On the #M42 northbound between junctions J3 and J3A there are currently delays of 10 mins due to an accident c... http://t.co/LwI3prBa31 1\n",
            "@DaveOshry @Soembie So if I say that I met her by accident this week- would you be super jelly Dave? :p 0\n",
            "ACCIDENT - HIT AND RUN - COLD at 500 BLOCK OF SE VISTA TER GRESHAM OR [Gresham Police #PG15000044357] 10:35 #pdx911 0\n",
            "@Calum5SOS this happened on accident but I like it http://t.co/QHmXuljSX9 0\n",
            "Please donate and spread the word! A training accident left the pole-vaulter Kira GrÌ_nberg a paraplegic http://t.co/6MpnyCl8PK 1\n",
            "Please like and share our new page for our Indoor Trampoline Park Aftershock opening this fall!! http://t.co/UgXhHErrxS 0\n",
            "@bxckylynch foi no ROH Aftershock: Las Vegas procura no pirate bay que tem 0\n",
            "Schoolboy ÛÒ Aftershock (Original Mix)\n",
            "Excision &amp; Skism ÛÒ SEXisM (Far Too Loud Remix)\n",
            "Firebeatz Schella ÛÒ Dear New... http://t.co/JQLzUA6YzQ 0\n",
            "320 [IR] ICEMOON [AFTERSHOCK] | http://t.co/THyzOMVWU0 | @djicemoon | #Dubstep #TrapMusic #DnB #EDM #Dance #IcesÛ_ http://t.co/83jOO0xk29 0\n",
            "'When the aftershock happened (Nepal) we were the last int'l team still there; in a way we were 1st responders.' Chief Collins @LACo_FD 0\n",
            "320 [IR] ICEMOON [AFTERSHOCK] | http://t.co/gRPeF7yAWG | @djicemoon | #Dubstep #TrapMusic #DnB #EDM #Dance #IcesÛ_ http://t.co/GGmvzT58vE 0\n",
            "Stop saying 'I Wish' and start saying 'I Will'. ÛÒ Unknown 0\n",
            "I want to go to Aftershock in October because it has all the bands I listen to and #NXT! Can't afford it yet though. #gradschoolapps 0\n",
            "'We are still living in the aftershock of Hiroshima people are still the scars of history.' - Edward Bond http://t.co/engTl5wrGp 1\n",
            "320 [IR] ICEMOON [AFTERSHOCK] | http://t.co/THyzOMVWU0 | @djicemoon | #Dubstep #TrapMusic #DnB #EDM #Dance #IcesÛ_ http://t.co/83jOO0xk29 0\n",
            "Aftershock https://t.co/Ecy4U623nO 0\n",
            "'There is no victory at bargain basement prices.' Dwight David Eisenhower 0\n",
            "Bo2 had by far the best competitive maps imo hope bo3 is the same #InVahnWeTrust 0\n",
            "Brass and Copper in Cataclysm &amp; AfterShock!!! http://t.co/uxYZyaygTy 0\n",
            "@JadeForMKX You should be happy I don't use Aftershock. That variation counters your play style hard. 0\n",
            "Aftershock https://t.co/38Nhq9moEf 0\n",
            "When carelessness leads to an aviation accident the victim has the right to seek compensation for damages. http://t.co/eqAG6rz1vO 1\n",
            "@rewind_music found out about you guys today(regarding the accident on the airplane lol) &amp; became a fan! Sending love &amp; support from Cali~? 0\n",
            "A girl who died in an airplane accident fifteen years ago 0\n",
            "@Mintechan Hihow are you? There is Keio line on the stationright? BTW do you know the airplane accident near Chofu airport this week? 1\n",
            "Mexican airplane accident in Ocampo Coahuila MX on 7/29/25 killed Coahuila government SubSecretariat Francisco Garcia Castells age 42. 1\n",
            "Horrible Accident  Man Died In Wings of AirplaneåÊ(29-07-2015) http://t.co/5ZRKZdhODe 1\n",
            "@god if an accident were to happen on this airplane idc if the rest of my luggage is completely destroyed just please save my makeup 0\n",
            "Horrible Accident Man Died In Wings of Airplane (29-07-2015) http://t.co/hG8u2kR1Rq 1\n",
            "#UPDATE: Picture from the Penn Twp. airplane accident. http://t.co/6JfgDnZRlC 1\n",
            "See how a judge ruled in this 2009 accident at #JFK Airport? involving Korean Air?.\n",
            "\n",
            "http://t.co/Yh1cGlN3rl http://t.co/6F5ShPKjOB 1\n",
            "@thugIauren I had myself on airplane mode by accident ?? 0\n",
            "36 years ago today baseball lost one of its greats in an airplane accident. RIP Captain. #Yankees @yankees http://t.co/iNKU28vjJj 1\n",
            "Experts in France begin examining airplane debris found on Reunion Island: French air accident experts on Wedn... http://t.co/miw2i0pQxz 1\n",
            "#BreakingNews Experts in France begin examining airplane debris found on Reunion Island: French air accident e...  http://t.co/3XIcUvlvlJ 1\n",
            "Experts in France begin examining airplane debris found on Reunion Island: French air accident experts on Wedn...  http://t.co/KuBsM16OuD 1\n",
            "Twelve feared killed in Pakistani air ambulance helicopter crash http://t.co/zdsug0UjS7 1\n",
            "http://t.co/Q5XTkaKM08 I'M DYING SEND AN AMBULANCE @M__Belly @brightasastar_ 0\n",
            "AMBULANCE SPRINTER AUTOMATIC FRONTLINE VEHICLE CHOICE OF 14 LEZ COMPLIANT | eBay http://t.co/7X3PDDbT0Z 0\n",
            "@disneyxrowbrina the ambulance isn't even parked well like its nearly on top of someone's car I'm laughing 0\n",
            "Shot 12 times. Found dead in cuffs after being involved in a car accident. Officers told ambulance not to treat him. https://t.co/MEUDJwaaNg 1\n",
            "@margaretcho Call me a fag and I'm going to call you an ambulance :) #RainbowPower 0\n",
            "New Nanotech Device Will Be Able To Target And Destroy Blood Clots http://t.co/MnmyJXQ9go #science 0\n",
            "@vballplaya2296 want me to send you  some medic supplies from my dad's ambulance? 0\n",
            "2 held with heroin in ambulance http://t.co/d9sOwi1G21 http://t.co/OPxmdPIwAu 1\n",
            "http://t.co/B2FaSrt1tN Twelve feared killed in Pakistani air ambulance helicopter crash http://t.co/O8BJXnEPQm 1\n",
            "Why should a helicopter ambulance ride to transfer to a hospital 21 miles away cost $29800? http://t.co/7ZqIreY7Te http://t.co/9Qp3PqPwZv 1\n",
            "so privileged and proud to wear this uniform.?? #NHS #Ambulance #GayUK #Uniform #Proud #Privileged #WhatsYourEmergency http://t.co/0BkmuhYSFx 0\n",
            "The bartender at work described a drunk man as annihilated @kdunning1919 @hsnowberger @gabrielasmith29. 16 more days 0\n",
            "Cop pulls drunk driver to safety SECONDS before his car is hit by train. http://t.co/cTL5xzIHxAåÊ http://t.co/1kDOZTD9mv via @ViralSpell 1\n",
            "Cop pulls drunk driver to safety SECONDS before his car is hit by train. http://t.co/cSsc8HcsXnåÊ http://t.co/jBlGyLCsAy via @ViralSpell 1\n",
            "@RosieGray Now in all sincerety do you think the UN would move to Israel if there was a fraction of a chance of being annihilated? 0\n",
            "@johnboywest The only 'stage' the drama queen can stand on is a drama stage &amp; certainly never the world stage; he would be annihilated. 0\n",
            "@_drodrolagi #handplacementgoals \n",
            "Bro we annihilated that hashtag this week. 0\n",
            "How do I step outside for 5 seconds and get annihilated  by mosquitoes? 0\n",
            "@jacksfilms #yiayplan well first we strike dreamworks and the minions will be annihilated. 0\n",
            "'If your nature appropriates it love will burn you until you become annihilated in your beloved...'  https://t.co/sMlwjunD09 0\n",
            "@NinaHoag - 'if you shred my Psych work our friendship would be annihilated' 0\n",
            "@thehill this is 1 example of y the Conservatives annihilated Burton v Wiimington Prkng Auth while Liberals stood by &amp;have done nothing 0\n",
            "Aug 3 1915ÛÓKAISERJAEGERS WIPED OUT.; Francis Joseph's Crack Regiment Annihilated on Carso Plateau.\n",
            "http://t.co/D1sPSwl66H 0\n",
            "They should all die! All of them! Everything annihilated! 0\n"
          ]
        }
      ]
    },
    {
      "cell_type": "markdown",
      "source": [
        "#### Conclusion:\n",
        "\n",
        "In our case, 1 means real and 0 means fake. Looking at our test set predictions, we can see that our model worked pretty well in determining whether a tweet was talking about a disaster."
      ],
      "metadata": {
        "id": "iLVAukvKQ6-I"
      }
    },
    {
      "cell_type": "code",
      "source": [],
      "metadata": {
        "id": "mTEcGqFaXyPd"
      },
      "execution_count": null,
      "outputs": []
    }
  ]
}